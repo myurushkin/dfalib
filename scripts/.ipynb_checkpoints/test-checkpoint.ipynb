{
 "cells": [
  {
   "cell_type": "code",
   "execution_count": 1,
   "id": "indian-committee",
   "metadata": {
    "jupyter": {
     "outputs_hidden": false
    }
   },
   "outputs": [],
   "source": [
    "from dafna import *"
   ]
  },
  {
   "cell_type": "code",
   "execution_count": 2,
   "id": "prepared-plate",
   "metadata": {},
   "outputs": [],
   "source": [
    "# GQD = X* g{m} X{1}X* g{m} X{1}X* g{m} X{1}X* g{m} X*, m=[2:20]\n",
    "# IMT = X* c{a} X{1}X* c{b} X{2}X* c{a} X{1}X* c{b} X*, a=[2:20], b=[1:20]\n",
    "\n",
    "# HRP_1 = X*  a{a} X* t{t} X* c{c} X* g{g} X{3}X* c{g} X* g{c} X* a{t} X* t{a} X*, a=[1:], t=[1:], c=[1:], g=[1:]\n",
    "\n",
    "# TRP_1 = X* (g{g} a{a}){m} X{3}X* (c{g} t{a}){m} X{3}X* (t{a} c{g}){m}, a=[1:20], g=[0:20], m=[1:20]\n",
    "# TRP_2 = X* (c{g} t{a}){m} X{3}X* (a{g} g{a}){m} X{3}X* (c{g} t{a}){m}, a=[1:20], g=[0:20], m=[1:20]\n",
    "# TRP_3 = X* (g{g} a{a}){m} X{3}X* (c{g} t{a}){m} X{3}X* ((g|a){g} (t|a){a}){m} , a=[1:20], g=[0:20], m=[1:20]\n",
    "# TRP_4 = X* (c{g} t{a}){m} X{3}X* (a{g} g{a}){m} X{3}X* ((g|a){g} (t|a){a}){m}, a=[1:20], g=[0:20], m=[1:20]\n",
    "# TRP_5 = X* (g{g} a{a}){m} X{3}X* (c{g} t{a}){m} X{3}X* (t{a} c{g}){m}, a=[0:20], g=[1:20], m=[1:20]\n",
    "# TRP_6 = X* (c{g} t{a}){m} X{3}X* (a{g} g{a}){m} X{3}X* (c{g} t{a}){m}, a=[0:20], g=[1:20], m=[1:20]\n",
    "# TRP_7 = X* (g{g} a{a}){m} X{3}X* (c{g} t{a}){m} X{3}X* ((g|a){g} (t|a){a}){m} , a=[0:20], g=[1:20], m=[1:20]\n",
    "# TRP_8 = X* (c{g} t{a}){m} X{3}X* (a{g} g{a}){m} X{3}X* ((g|a){g} (t|a){a}){m}, a=[0:20], g=[1:20], m=[1:20]\n",
    "\n",
    "# X = (a|c|g|t)\n",
    "# result = GQD IMT  \\\n",
    "# \t (HRP_1) \\\n",
    "# \t (TRP_1 | TRP_2 | TRP_3 | TRP_4 | TRP_5 | TRP_6 | TRP_7 | TRP_8)"
   ]
  },
  {
   "cell_type": "code",
   "execution_count": 3,
   "id": "disabled-airline",
   "metadata": {
    "jupyter": {
     "outputs_hidden": false
    }
   },
   "outputs": [],
   "source": [
    "def preporcess_pattern(pattern):\n",
    "    pattern = pattern.replace(\" \", \"\")\n",
    "    return pattern\n",
    "\n",
    "def createGQD(m, ctx):\n",
    "    ggg = 'g'*m\n",
    "    pattern = preporcess_pattern(\"X* {ggg} X+ {ggg} X+ {ggg} X+ {ggg} X*\".format(ggg=ggg))\n",
    "    return ctx.create_pattern(pattern)\n",
    "  \n",
    "def createIMT(x, y, ctx):\n",
    "    cx = 'c'*x\n",
    "    cy = 'c'*y\n",
    "    pattern = preporcess_pattern(\"X* {cx} X+ {cy} XX+ {cx} X+ {cy} X*\".format(cx=cx, cy=cy))\n",
    "    return ctx.create_pattern(pattern)\n",
    "\n",
    "\n",
    "from itertools import product\n",
    "\n",
    "\n",
    "def createTRPs(n, ctx):\n",
    "  assert n <= 10\n",
    "  main_strings = list(product('ga', repeat=n))\n",
    "  main_strings = list(map(lambda x: \"\".join(x), main_strings))\n",
    "\n",
    "  result = []\n",
    "\n",
    "  comp = {'g':'c', 'a': 't'}\n",
    "  comp_strings = list(map(lambda x: \"\".join(comp[c] for c in x), main_strings))\n",
    "\n",
    "  for main_string, comp_string in zip(main_strings, comp_strings):\n",
    "    values = [main_string, \"\".join(list(reversed(comp_string))), comp_string]\n",
    "    result.append(values)\n",
    "    #print('X*' + \"XXX+\".join(values) + 'X*')\n",
    "\n",
    "  for main_string, comp_string in zip(main_strings, comp_strings):\n",
    "    values = ([comp_string, \"\".join(list(reversed(main_string))), comp_string])\n",
    "    result.append(values)\n",
    "    #print('X*' + \"XXX+\".join(values) + 'X*')\n",
    "\n",
    "\n",
    "  comp2 = {'g': 'ga', 'a': 'ta'}\n",
    "  for main_string, comp_string in zip(main_strings, comp_strings):\n",
    "    tmp = [comp2[c] for c in main_string]\n",
    "    tmp2 = list(map(lambda x: \"\".join(x), list(product(*tmp)))) \n",
    "\n",
    "    for comp2_string in tmp2:\n",
    "      comp2_string = comp2_string\n",
    "      values = ([comp_string, \"\".join(list(reversed(main_string))), comp2_string])\n",
    "      result.append(values)\n",
    "      #print('X*' + \"XXX+\".join(values) + 'X*');\n",
    "\n",
    "  comp2 = {'g': 'ga', 'a': 'ta'}\n",
    "  for main_string, comp_string in zip(main_strings, comp_strings):\n",
    "    tmp = [comp2[c] for c in main_string]\n",
    "    tmp2 = list(map(lambda x: \"\".join(x), list(product(*tmp)))) \n",
    "\n",
    "    for comp2_string in tmp2:\n",
    "      comp2_string = comp2_string\n",
    "      values = ([main_string, \"\".join(list(reversed(comp_string))), comp2_string])\n",
    "      result.append(values)\n",
    "  \n",
    "  patterns = list(map(lambda values: 'X*' + \"XXX+\".join(values) + 'X*', result))\n",
    "  return [ctx.create_pattern(p) for p in patterns]"
   ]
  },
  {
   "cell_type": "code",
   "execution_count": 4,
   "id": "electoral-surface",
   "metadata": {},
   "outputs": [],
   "source": [
    "# def createHRP(counts, ctx):\n",
    "#     comp = {'a':'t', 't':'a', 'c':'g', 'g':'c'}\n",
    "\n",
    "#     values = [v * counts[v] for v in 'atgc']\n",
    "#     comp_values = [comp[v] * counts[v] for v in 'atgc']\n",
    "#     pattern = preporcess_pattern('X*' + 'X*'.join(values) + 'XXXX*' + 'X*'.join(reversed(comp_values)) + 'X*')\n",
    "#     return ctx.create_pattern(pattern)"
   ]
  },
  {
   "cell_type": "code",
   "execution_count": 5,
   "id": "fifty-socket",
   "metadata": {},
   "outputs": [],
   "source": [
    "ctx = Context()"
   ]
  },
  {
   "cell_type": "code",
   "execution_count": 6,
   "id": "constant-circuit",
   "metadata": {},
   "outputs": [],
   "source": [
    "X = ctx.create_pattern(\"a|c|g|t\", simple=True, name=\"X\")"
   ]
  },
  {
   "cell_type": "code",
   "execution_count": 7,
   "id": "third-wonder",
   "metadata": {},
   "outputs": [],
   "source": [
    "GQDs = [createGQD(m, ctx) for m in range(2, 21)]\n",
    "#HRPs = [createHRP({'a': 3, 't': 1, 'g': 1, 'c': 1}, ctx)]"
   ]
  },
  {
   "cell_type": "code",
   "execution_count": 8,
   "id": "immune-leave",
   "metadata": {},
   "outputs": [],
   "source": [
    "TRPs = createTRPs(2, ctx)"
   ]
  },
  {
   "cell_type": "code",
   "execution_count": 9,
   "id": "mechanical-amendment",
   "metadata": {},
   "outputs": [],
   "source": [
    "IMTs = []\n",
    "for x in range(1, 21):\n",
    "  for y in range(max(1, x-1), x+2):\n",
    "    IMTs.append(createIMT(x, y, ctx))"
   ]
  },
  {
   "cell_type": "code",
   "execution_count": null,
   "id": "authentic-evolution",
   "metadata": {},
   "outputs": [
    {
     "name": "stderr",
     "output_type": "stream",
     "text": [
      "\r",
      "  0%|          | 0/19 [00:00<?, ?it/s]"
     ]
    },
    {
     "name": "stdout",
     "output_type": "stream",
     "text": [
      "12\n",
      "492\n",
      "24108\n"
     ]
    },
    {
     "name": "stderr",
     "output_type": "stream",
     "text": [
      "\r",
      " 21%|██        | 4/19 [00:00<00:02,  5.68it/s]"
     ]
    },
    {
     "name": "stdout",
     "output_type": "stream",
     "text": [
      "1374156\n"
     ]
    }
   ],
   "source": [
    "result = None\n",
    "for item in tqdm.tqdm(GQDs):\n",
    "    if type(item) is list:\n",
    "        for it in tqdm.tqdm(item):\n",
    "            result = (result.add(it) if result != None else it).minimize()\n",
    "            print(result.state_count())\n",
    "        continue\n",
    "    assert type(item) is Automata\n",
    "    result = (result.add(item) if result != None else item).minimize()\n",
    "    print(result.state_count())"
   ]
  },
  {
   "cell_type": "code",
   "execution_count": 12,
   "id": "structured-ceiling",
   "metadata": {},
   "outputs": [
    {
     "name": "stderr",
     "output_type": "stream",
     "text": [
      "100%|██████████| 19/19 [00:00<00:00, 1134.47it/s]\n"
     ]
    }
   ],
   "source": [
    "t1 = psum(GQDs)"
   ]
  },
  {
   "cell_type": "code",
   "execution_count": 13,
   "id": "latin-pointer",
   "metadata": {},
   "outputs": [
    {
     "name": "stderr",
     "output_type": "stream",
     "text": [
      "100%|██████████| 59/59 [00:00<00:00, 817.30it/s]\n"
     ]
    }
   ],
   "source": [
    "t2 = psum(IMTs)"
   ]
  },
  {
   "cell_type": "code",
   "execution_count": 19,
   "id": "competitive-devon",
   "metadata": {},
   "outputs": [
    {
     "name": "stderr",
     "output_type": "stream",
     "text": [
      "100%|██████████| 40/40 [01:51<00:00,  2.78s/it]\n"
     ]
    }
   ],
   "source": [
    "t3 = psum(TRPs)"
   ]
  },
  {
   "cell_type": "code",
   "execution_count": 20,
   "id": "unavailable-america",
   "metadata": {},
   "outputs": [
    {
     "name": "stderr",
     "output_type": "stream",
     "text": [
      "100%|██████████| 3/3 [00:02<00:00,  1.40it/s]\n"
     ]
    }
   ],
   "source": [
    "t4 = pintersect([t1, t2, t3])"
   ]
  },
  {
   "cell_type": "code",
   "execution_count": 23,
   "id": "uniform-michigan",
   "metadata": {},
   "outputs": [
    {
     "name": "stdout",
     "output_type": "stream",
     "text": [
      "ccggcggcggcgg: (2, 2, 1, 4)\n",
      "cggcggccggcgg: (2, 2, 1, 3)\n",
      "ggcggccggcggc: (2, 2, 2, 3)\n"
     ]
    },
    {
     "data": {
      "text/plain": [
       "168194"
      ]
     },
     "execution_count": 23,
     "metadata": {},
     "output_type": "execute_result"
    }
   ],
   "source": [
    "result = t4\n",
    "for ss in result.min_strings():\n",
    "    print(\"{}: {}\".format(ss, str(analyze_string(ss, [True, True, True, True]))))\n",
    "result.state_count()"
   ]
  },
  {
   "cell_type": "code",
   "execution_count": 22,
   "id": "civil-words",
   "metadata": {},
   "outputs": [
    {
     "ename": "KeyboardInterrupt",
     "evalue": "",
     "output_type": "error",
     "traceback": [
      "\u001b[0;31m---------------------------------------------------------------------------\u001b[0m",
      "\u001b[0;31mKeyboardInterrupt\u001b[0m                         Traceback (most recent call last)",
      "\u001b[0;32m/usr/lib/python3.7/subprocess.py\u001b[0m in \u001b[0;36mcommunicate\u001b[0;34m(self, input, timeout)\u001b[0m\n\u001b[1;32m    963\u001b[0m             \u001b[0;32mtry\u001b[0m\u001b[0;34m:\u001b[0m\u001b[0;34m\u001b[0m\u001b[0;34m\u001b[0m\u001b[0m\n\u001b[0;32m--> 964\u001b[0;31m                 \u001b[0mstdout\u001b[0m\u001b[0;34m,\u001b[0m \u001b[0mstderr\u001b[0m \u001b[0;34m=\u001b[0m \u001b[0mself\u001b[0m\u001b[0;34m.\u001b[0m\u001b[0m_communicate\u001b[0m\u001b[0;34m(\u001b[0m\u001b[0minput\u001b[0m\u001b[0;34m,\u001b[0m \u001b[0mendtime\u001b[0m\u001b[0;34m,\u001b[0m \u001b[0mtimeout\u001b[0m\u001b[0;34m)\u001b[0m\u001b[0;34m\u001b[0m\u001b[0;34m\u001b[0m\u001b[0m\n\u001b[0m\u001b[1;32m    965\u001b[0m             \u001b[0;32mexcept\u001b[0m \u001b[0mKeyboardInterrupt\u001b[0m\u001b[0;34m:\u001b[0m\u001b[0;34m\u001b[0m\u001b[0;34m\u001b[0m\u001b[0m\n",
      "\u001b[0;32m/usr/lib/python3.7/subprocess.py\u001b[0m in \u001b[0;36m_communicate\u001b[0;34m(self, input, endtime, orig_timeout)\u001b[0m\n\u001b[1;32m   1714\u001b[0m \u001b[0;34m\u001b[0m\u001b[0m\n\u001b[0;32m-> 1715\u001b[0;31m                     \u001b[0mready\u001b[0m \u001b[0;34m=\u001b[0m \u001b[0mselector\u001b[0m\u001b[0;34m.\u001b[0m\u001b[0mselect\u001b[0m\u001b[0;34m(\u001b[0m\u001b[0mtimeout\u001b[0m\u001b[0;34m)\u001b[0m\u001b[0;34m\u001b[0m\u001b[0;34m\u001b[0m\u001b[0m\n\u001b[0m\u001b[1;32m   1716\u001b[0m                     \u001b[0mself\u001b[0m\u001b[0;34m.\u001b[0m\u001b[0m_check_timeout\u001b[0m\u001b[0;34m(\u001b[0m\u001b[0mendtime\u001b[0m\u001b[0;34m,\u001b[0m \u001b[0morig_timeout\u001b[0m\u001b[0;34m,\u001b[0m \u001b[0mstdout\u001b[0m\u001b[0;34m,\u001b[0m \u001b[0mstderr\u001b[0m\u001b[0;34m)\u001b[0m\u001b[0;34m\u001b[0m\u001b[0;34m\u001b[0m\u001b[0m\n",
      "\u001b[0;32m/usr/lib/python3.7/selectors.py\u001b[0m in \u001b[0;36mselect\u001b[0;34m(self, timeout)\u001b[0m\n\u001b[1;32m    414\u001b[0m         \u001b[0;32mtry\u001b[0m\u001b[0;34m:\u001b[0m\u001b[0;34m\u001b[0m\u001b[0;34m\u001b[0m\u001b[0m\n\u001b[0;32m--> 415\u001b[0;31m             \u001b[0mfd_event_list\u001b[0m \u001b[0;34m=\u001b[0m \u001b[0mself\u001b[0m\u001b[0;34m.\u001b[0m\u001b[0m_selector\u001b[0m\u001b[0;34m.\u001b[0m\u001b[0mpoll\u001b[0m\u001b[0;34m(\u001b[0m\u001b[0mtimeout\u001b[0m\u001b[0;34m)\u001b[0m\u001b[0;34m\u001b[0m\u001b[0;34m\u001b[0m\u001b[0m\n\u001b[0m\u001b[1;32m    416\u001b[0m         \u001b[0;32mexcept\u001b[0m \u001b[0mInterruptedError\u001b[0m\u001b[0;34m:\u001b[0m\u001b[0;34m\u001b[0m\u001b[0;34m\u001b[0m\u001b[0m\n",
      "\u001b[0;31mKeyboardInterrupt\u001b[0m: ",
      "\nDuring handling of the above exception, another exception occurred:\n",
      "\u001b[0;31mKeyboardInterrupt\u001b[0m                         Traceback (most recent call last)",
      "\u001b[0;32m<ipython-input-22-9d758e68b43e>\u001b[0m in \u001b[0;36m<module>\u001b[0;34m\u001b[0m\n\u001b[0;32m----> 1\u001b[0;31m \u001b[0mdraw\u001b[0m\u001b[0;34m(\u001b[0m\u001b[0mresult\u001b[0m\u001b[0;34m)\u001b[0m\u001b[0;34m\u001b[0m\u001b[0;34m\u001b[0m\u001b[0m\n\u001b[0m",
      "\u001b[0;32m~/projects-git/dafna_private/venv/lib/python3.7/site-packages/dafna-0.0.1-py3.7-linux-x86_64.egg/dafna/shared.py\u001b[0m in \u001b[0;36mdraw\u001b[0;34m(autamata)\u001b[0m\n\u001b[1;32m     75\u001b[0m     \u001b[0mtext\u001b[0m \u001b[0;34m=\u001b[0m \u001b[0mdafna_generate_visualization_script\u001b[0m\u001b[0;34m(\u001b[0m\u001b[0mautamata\u001b[0m\u001b[0;34m.\u001b[0m\u001b[0mobj\u001b[0m\u001b[0;34m)\u001b[0m\u001b[0;34m.\u001b[0m\u001b[0mdecode\u001b[0m\u001b[0;34m(\u001b[0m\u001b[0;34m\"utf-8\"\u001b[0m\u001b[0;34m)\u001b[0m\u001b[0;34m\u001b[0m\u001b[0;34m\u001b[0m\u001b[0m\n\u001b[1;32m     76\u001b[0m     \u001b[0msrc\u001b[0m \u001b[0;34m=\u001b[0m \u001b[0mSource\u001b[0m\u001b[0;34m(\u001b[0m\u001b[0mtext\u001b[0m\u001b[0;34m)\u001b[0m\u001b[0;34m\u001b[0m\u001b[0;34m\u001b[0m\u001b[0m\n\u001b[0;32m---> 77\u001b[0;31m     \u001b[0msrc\u001b[0m\u001b[0;34m.\u001b[0m\u001b[0mrender\u001b[0m\u001b[0;34m(\u001b[0m\u001b[0mfilename\u001b[0m\u001b[0;34m=\u001b[0m\u001b[0;34m'test.gv'\u001b[0m\u001b[0;34m,\u001b[0m \u001b[0mview\u001b[0m\u001b[0;34m=\u001b[0m\u001b[0;32mTrue\u001b[0m\u001b[0;34m)\u001b[0m\u001b[0;34m\u001b[0m\u001b[0;34m\u001b[0m\u001b[0m\n\u001b[0m\u001b[1;32m     78\u001b[0m \u001b[0;34m\u001b[0m\u001b[0m\n\u001b[1;32m     79\u001b[0m \u001b[0;34m\u001b[0m\u001b[0m\n",
      "\u001b[0;32m~/projects-git/dafna_private/venv/lib/python3.7/site-packages/graphviz/files.py\u001b[0m in \u001b[0;36mrender\u001b[0;34m(self, filename, directory, view, cleanup, format, renderer, formatter, quiet, quiet_view)\u001b[0m\n\u001b[1;32m    243\u001b[0m         rendered = backend.render(self._engine, format, filepath,\n\u001b[1;32m    244\u001b[0m                                   \u001b[0mrenderer\u001b[0m\u001b[0;34m=\u001b[0m\u001b[0mrenderer\u001b[0m\u001b[0;34m,\u001b[0m \u001b[0mformatter\u001b[0m\u001b[0;34m=\u001b[0m\u001b[0mformatter\u001b[0m\u001b[0;34m,\u001b[0m\u001b[0;34m\u001b[0m\u001b[0;34m\u001b[0m\u001b[0m\n\u001b[0;32m--> 245\u001b[0;31m                                   quiet=quiet)\n\u001b[0m\u001b[1;32m    246\u001b[0m \u001b[0;34m\u001b[0m\u001b[0m\n\u001b[1;32m    247\u001b[0m         \u001b[0;32mif\u001b[0m \u001b[0mcleanup\u001b[0m\u001b[0;34m:\u001b[0m\u001b[0;34m\u001b[0m\u001b[0;34m\u001b[0m\u001b[0m\n",
      "\u001b[0;32m~/projects-git/dafna_private/venv/lib/python3.7/site-packages/graphviz/backend.py\u001b[0m in \u001b[0;36mrender\u001b[0;34m(***failed resolving arguments***)\u001b[0m\n\u001b[1;32m    221\u001b[0m         \u001b[0mcwd\u001b[0m \u001b[0;34m=\u001b[0m \u001b[0;32mNone\u001b[0m\u001b[0;34m\u001b[0m\u001b[0;34m\u001b[0m\u001b[0m\n\u001b[1;32m    222\u001b[0m \u001b[0;34m\u001b[0m\u001b[0m\n\u001b[0;32m--> 223\u001b[0;31m     \u001b[0mrun\u001b[0m\u001b[0;34m(\u001b[0m\u001b[0mcmd\u001b[0m\u001b[0;34m,\u001b[0m \u001b[0mcapture_output\u001b[0m\u001b[0;34m=\u001b[0m\u001b[0;32mTrue\u001b[0m\u001b[0;34m,\u001b[0m \u001b[0mcwd\u001b[0m\u001b[0;34m=\u001b[0m\u001b[0mcwd\u001b[0m\u001b[0;34m,\u001b[0m \u001b[0mcheck\u001b[0m\u001b[0;34m=\u001b[0m\u001b[0;32mTrue\u001b[0m\u001b[0;34m,\u001b[0m \u001b[0mquiet\u001b[0m\u001b[0;34m=\u001b[0m\u001b[0mquiet\u001b[0m\u001b[0;34m)\u001b[0m\u001b[0;34m\u001b[0m\u001b[0;34m\u001b[0m\u001b[0m\n\u001b[0m\u001b[1;32m    224\u001b[0m     \u001b[0;32mreturn\u001b[0m \u001b[0mrendered\u001b[0m\u001b[0;34m\u001b[0m\u001b[0;34m\u001b[0m\u001b[0m\n\u001b[1;32m    225\u001b[0m \u001b[0;34m\u001b[0m\u001b[0m\n",
      "\u001b[0;32m~/projects-git/dafna_private/venv/lib/python3.7/site-packages/graphviz/backend.py\u001b[0m in \u001b[0;36mrun\u001b[0;34m(cmd, input, capture_output, check, encoding, quiet, **kwargs)\u001b[0m\n\u001b[1;32m    169\u001b[0m             \u001b[0;32mraise\u001b[0m\u001b[0;34m\u001b[0m\u001b[0;34m\u001b[0m\u001b[0m\n\u001b[1;32m    170\u001b[0m \u001b[0;34m\u001b[0m\u001b[0m\n\u001b[0;32m--> 171\u001b[0;31m     \u001b[0mout\u001b[0m\u001b[0;34m,\u001b[0m \u001b[0merr\u001b[0m \u001b[0;34m=\u001b[0m \u001b[0mproc\u001b[0m\u001b[0;34m.\u001b[0m\u001b[0mcommunicate\u001b[0m\u001b[0;34m(\u001b[0m\u001b[0minput\u001b[0m\u001b[0;34m)\u001b[0m\u001b[0;34m\u001b[0m\u001b[0;34m\u001b[0m\u001b[0m\n\u001b[0m\u001b[1;32m    172\u001b[0m \u001b[0;34m\u001b[0m\u001b[0m\n\u001b[1;32m    173\u001b[0m     \u001b[0;32mif\u001b[0m \u001b[0;32mnot\u001b[0m \u001b[0mquiet\u001b[0m \u001b[0;32mand\u001b[0m \u001b[0merr\u001b[0m\u001b[0;34m:\u001b[0m\u001b[0;34m\u001b[0m\u001b[0;34m\u001b[0m\u001b[0m\n",
      "\u001b[0;32m/usr/lib/python3.7/subprocess.py\u001b[0m in \u001b[0;36mcommunicate\u001b[0;34m(self, input, timeout)\u001b[0m\n\u001b[1;32m    973\u001b[0m                 \u001b[0mself\u001b[0m\u001b[0;34m.\u001b[0m\u001b[0m_sigint_wait_secs\u001b[0m \u001b[0;34m=\u001b[0m \u001b[0;36m0\u001b[0m  \u001b[0;31m# nothing else should wait.\u001b[0m\u001b[0;34m\u001b[0m\u001b[0;34m\u001b[0m\u001b[0m\n\u001b[1;32m    974\u001b[0m                 \u001b[0;32mtry\u001b[0m\u001b[0;34m:\u001b[0m\u001b[0;34m\u001b[0m\u001b[0;34m\u001b[0m\u001b[0m\n\u001b[0;32m--> 975\u001b[0;31m                     \u001b[0mself\u001b[0m\u001b[0;34m.\u001b[0m\u001b[0m_wait\u001b[0m\u001b[0;34m(\u001b[0m\u001b[0mtimeout\u001b[0m\u001b[0;34m=\u001b[0m\u001b[0msigint_timeout\u001b[0m\u001b[0;34m)\u001b[0m\u001b[0;34m\u001b[0m\u001b[0;34m\u001b[0m\u001b[0m\n\u001b[0m\u001b[1;32m    976\u001b[0m                 \u001b[0;32mexcept\u001b[0m \u001b[0mTimeoutExpired\u001b[0m\u001b[0;34m:\u001b[0m\u001b[0;34m\u001b[0m\u001b[0;34m\u001b[0m\u001b[0m\n\u001b[1;32m    977\u001b[0m                     \u001b[0;32mpass\u001b[0m\u001b[0;34m\u001b[0m\u001b[0;34m\u001b[0m\u001b[0m\n",
      "\u001b[0;32m/usr/lib/python3.7/subprocess.py\u001b[0m in \u001b[0;36m_wait\u001b[0;34m(self, timeout)\u001b[0m\n\u001b[1;32m   1645\u001b[0m                         \u001b[0;32mraise\u001b[0m \u001b[0mTimeoutExpired\u001b[0m\u001b[0;34m(\u001b[0m\u001b[0mself\u001b[0m\u001b[0;34m.\u001b[0m\u001b[0margs\u001b[0m\u001b[0;34m,\u001b[0m \u001b[0mtimeout\u001b[0m\u001b[0;34m)\u001b[0m\u001b[0;34m\u001b[0m\u001b[0;34m\u001b[0m\u001b[0m\n\u001b[1;32m   1646\u001b[0m                     \u001b[0mdelay\u001b[0m \u001b[0;34m=\u001b[0m \u001b[0mmin\u001b[0m\u001b[0;34m(\u001b[0m\u001b[0mdelay\u001b[0m \u001b[0;34m*\u001b[0m \u001b[0;36m2\u001b[0m\u001b[0;34m,\u001b[0m \u001b[0mremaining\u001b[0m\u001b[0;34m,\u001b[0m \u001b[0;36m.05\u001b[0m\u001b[0;34m)\u001b[0m\u001b[0;34m\u001b[0m\u001b[0;34m\u001b[0m\u001b[0m\n\u001b[0;32m-> 1647\u001b[0;31m                     \u001b[0mtime\u001b[0m\u001b[0;34m.\u001b[0m\u001b[0msleep\u001b[0m\u001b[0;34m(\u001b[0m\u001b[0mdelay\u001b[0m\u001b[0;34m)\u001b[0m\u001b[0;34m\u001b[0m\u001b[0;34m\u001b[0m\u001b[0m\n\u001b[0m\u001b[1;32m   1648\u001b[0m             \u001b[0;32melse\u001b[0m\u001b[0;34m:\u001b[0m\u001b[0;34m\u001b[0m\u001b[0;34m\u001b[0m\u001b[0m\n\u001b[1;32m   1649\u001b[0m                 \u001b[0;32mwhile\u001b[0m \u001b[0mself\u001b[0m\u001b[0;34m.\u001b[0m\u001b[0mreturncode\u001b[0m \u001b[0;32mis\u001b[0m \u001b[0;32mNone\u001b[0m\u001b[0;34m:\u001b[0m\u001b[0;34m\u001b[0m\u001b[0;34m\u001b[0m\u001b[0m\n",
      "\u001b[0;31mKeyboardInterrupt\u001b[0m: "
     ]
    }
   ],
   "source": [
    "draw(result)"
   ]
  },
  {
   "cell_type": "code",
   "execution_count": 6,
   "id": "internal-robertson",
   "metadata": {},
   "outputs": [],
   "source": [
    "def createGQD(m, ctx):\n",
    "    pattern = \"X* g{m} X+ g{m} X+ g{m} X+ g{m} X*\"\n",
    "    return ctx.create(pattern, \"GQD[{}]\".format(m))\n",
    "\n",
    "def createHRP(a, t, g, c, ctx):\n",
    "    pattern = \"X*  a{a} X* t{t} X* c{c} X* g{g} X{3}X* c{g} X* g{c} X* a{t} X* t{a} X*\"\n",
    "    return ctx.create(pattern, \"HRP[{}]\".format(m))\n",
    "\n",
    "def createTRP(a, g, m, ctx):\n",
    "    pattern = \"X* (g{g} a{a}){m} X{3}X* (c{g} t{a}){m} X{3}X*\"\n",
    "    return ctx.create(pattern, \"TRP[{}]\".format(m))"
   ]
  },
  {
   "cell_type": "code",
   "execution_count": 7,
   "id": "secondary-bumper",
   "metadata": {},
   "outputs": [],
   "source": [
    "# GQDs = [createGQD(m, ctx) for m in range(2, 20)]\n",
    "# HRPs = [createHRP(a, t, g, c, ctx) for a in range(2, 20)]"
   ]
  },
  {
   "cell_type": "code",
   "execution_count": null,
   "id": "drawn-departure",
   "metadata": {},
   "outputs": [],
   "source": [
    "GQDs[0].state_count()\n",
    "GQDs[0].minimize()\n",
    "GQDs[0].state_count()\n",
    "GQDs[1].plot()"
   ]
  },
  {
   "cell_type": "code",
   "execution_count": null,
   "id": "generous-chosen",
   "metadata": {},
   "outputs": [],
   "source": [
    "result = dafna.intersect(dafna.psum(GQDs), dafna.sum(TRPs), dafna.sum(HRps)) "
   ]
  },
  {
   "cell_type": "code",
   "execution_count": 9,
   "id": "vietnamese-silly",
   "metadata": {},
   "outputs": [
    {
     "ename": "SyntaxError",
     "evalue": "invalid syntax (<ipython-input-9-8a6f35d273c7>, line 1)",
     "output_type": "error",
     "traceback": [
      "\u001b[0;36m  File \u001b[0;32m\"<ipython-input-9-8a6f35d273c7>\"\u001b[0;36m, line \u001b[0;32m1\u001b[0m\n\u001b[0;31m    def dafna.sum(values):\u001b[0m\n\u001b[0m             ^\u001b[0m\n\u001b[0;31mSyntaxError\u001b[0m\u001b[0;31m:\u001b[0m invalid syntax\n"
     ]
    }
   ],
   "source": [
    "def dafna.sum(values):\n",
    "    result = value[0]\n",
    "    result.minimize()\n",
    "    for i in range(1, len(values)):\n",
    "        \n",
    "        "
   ]
  },
  {
   "cell_type": "code",
   "execution_count": null,
   "id": "fallen-aurora",
   "metadata": {},
   "outputs": [],
   "source": []
  },
  {
   "cell_type": "code",
   "execution_count": 109,
   "id": "efficient-weather",
   "metadata": {},
   "outputs": [],
   "source": [
    "# from itertools import product\n",
    "# main_strings = list(product('ga', repeat=3))\n",
    "# main_strings = list(map(lambda x: \"\".join(x), main_strings))\n",
    "\n",
    "\n",
    "# result = []\n",
    "\n",
    "# comp = {'g':'c', 'a': 't'}\n",
    "# comp_strings = list(map(lambda x: \"\".join(comp[c] for c in x), main_strings))\n",
    "\n",
    "# for main_string, comp_string in zip(main_strings, comp_strings):\n",
    "#   values = [main_string, \"\".join(list(reversed(comp_string))), comp_string]\n",
    "#   result.extend(values)\n",
    "#   #print('X*' + \"XXX+\".join(values) + 'X*')\n",
    "  \n",
    "# for main_string, comp_string in zip(main_strings, comp_strings):\n",
    "#   values = ([comp_string, \"\".join(list(reversed(main_string))), comp_string])\n",
    "#   result.extend(values)\n",
    "#   #print('X*' + \"XXX+\".join(values) + 'X*')\n",
    "  \n",
    "  \n",
    "# comp2 = {'g': 'ga', 'a': 'ta'}\n",
    "# for main_string, comp_string in zip(main_strings, comp_strings):\n",
    "#   tmp = [comp2[c] for c in main_string]\n",
    "#   tmp2 = list(map(lambda x: \"\".join(x), list(product(*tmp)))) \n",
    "  \n",
    "#   for comp2_string in tmp2:\n",
    "#     comp2_string = comp2_string\n",
    "#     values = ([comp_string, \"\".join(list(reversed(main_string))), comp2_string])\n",
    "#     result.extend(values)\n",
    "#     #print('X*' + \"XXX+\".join(values) + 'X*');\n",
    "    \n",
    "# comp2 = {'g': 'ga', 'a': 'ta'}\n",
    "# for main_string, comp_string in zip(main_strings, comp_strings):\n",
    "#   tmp = [comp2[c] for c in main_string]\n",
    "#   tmp2 = list(map(lambda x: \"\".join(x), list(product(*tmp)))) \n",
    "  \n",
    "#   for comp2_string in tmp2:\n",
    "#     comp2_string = comp2_string\n",
    "#     values = ([main_string, \"\".join(list(reversed(comp_string))), comp2_string])\n",
    "#     result.extend(values)\n",
    "#     #print('X*' + \"XXX+\".join(values) + 'X*');"
   ]
  }
 ],
 "metadata": {
  "kernelspec": {
   "display_name": "Python 3",
   "language": "python",
   "name": "python3"
  },
  "language_info": {
   "codemirror_mode": {
    "name": "ipython",
    "version": 3
   },
   "file_extension": ".py",
   "mimetype": "text/x-python",
   "name": "python",
   "nbconvert_exporter": "python",
   "pygments_lexer": "ipython3",
   "version": "3.7.6"
  }
 },
 "nbformat": 4,
 "nbformat_minor": 5
}
