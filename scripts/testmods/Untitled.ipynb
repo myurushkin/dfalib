{
 "cells": [
  {
   "cell_type": "code",
   "execution_count": 1,
   "metadata": {},
   "outputs": [
    {
     "ename": "ModuleNotFoundError",
     "evalue": "No module named 'dafna'",
     "output_type": "error",
     "traceback": [
      "\u001b[0;31m---------------------------------------------------------------------------\u001b[0m",
      "\u001b[0;31mModuleNotFoundError\u001b[0m                       Traceback (most recent call last)",
      "\u001b[0;32m<ipython-input-1-6b6e0a9e64b6>\u001b[0m in \u001b[0;36m<module>\u001b[0;34m\u001b[0m\n\u001b[0;32m----> 1\u001b[0;31m \u001b[0;32mimport\u001b[0m \u001b[0mdafna\u001b[0m\u001b[0;34m\u001b[0m\u001b[0;34m\u001b[0m\u001b[0m\n\u001b[0m",
      "\u001b[0;31mModuleNotFoundError\u001b[0m: No module named 'dafna'"
     ]
    }
   ],
   "source": [
    "import dafna"
   ]
  },
  {
   "cell_type": "code",
   "execution_count": 9,
   "metadata": {},
   "outputs": [],
   "source": [
    "program = \\\n",
    "  '''\n",
    "  GQD = X* g{m} X{1}X* g{m} X{1}X* g{m} X{1}X* g{m} X*, m=[2:20]\n",
    "  IMT = X* c{a} X{1}X* c{b} X{2}X* c{a} X{1}X* c{b} X*, a=[2:20], b=[1:20]\n",
    "\n",
    "  HRP_1 = X*  a{a} X* t{t} X* c{c} X* g{g} X{3}X* c{g} X* g{c} X* a{t} X* t{a} X*, a=[1:2], t=[1:2], c=[1:2], g=[1:2]\n",
    "\n",
    "  TRP_1 = X* (g{g} a{a}){m} X{3}X* (c{g} t{a}){m} X{3}X* (t{a} c{g}){m}, a=[1:20], g=[0:20], m=[1:20]\n",
    "  TRP_2 = X* (c{g} t{a}){m} X{3}X* (a{g} g{a}){m} X{3}X* (c{g} t{a}){m}, a=[1:20], g=[0:20], m=[1:20]\n",
    "  TRP_3 = X* (g{g} a{a}){m} X{3}X* (c{g} t{a}){m} X{3}X* ((g|a){g} (t|a){a}){m} , a=[1:20], g=[0:20], m=[1:20]\n",
    "  TRP_4 = X* (c{g} t{a}){m} X{3}X* (a{g} g{a}){m} X{3}X* ((g|a){g} (t|a){a}){m}, a=[1:20], g=[0:20], m=[1:20]\n",
    "  TRP_5 = X* (g{g} a{a}){m} X{3}X* (c{g} t{a}){m} X{3}X* (t{a} c{g}){m}, a=[0:20], g=[1:20], m=[1:20]\n",
    "  TRP_6 = X* (c{g} t{a}){m} X{3}X* (a{g} g{a}){m} X{3}X* (c{g} t{a}){m}, a=[0:20], g=[1:20], m=[1:20]\n",
    "  TRP_7 = X* (g{g} a{a}){m} X{3}X* (c{g} t{a}){m} X{3}X* ((g|a){g} (t|a){a}){m} , a=[0:20], g=[1:20], m=[1:20]\n",
    "  TRP_8 = X* (c{g} t{a}){m} X{3}X* (a{g} g{a}){m} X{3}X* ((g|a){g} (t|a){a}){m}, a=[0:20], g=[1:20], m=[1:20]\n",
    "\n",
    "  X = (a|c|g|t)\n",
    "  result = GQD IMT  \\\n",
    "       (HRP_1) \\\n",
    "       (TRP_1 | TRP_2 | TRP_3 | TRP_4 | TRP_5 | TRP_6 | TRP_7 | TRP_8)\n",
    "\n",
    "  '''"
   ]
  },
  {
   "cell_type": "code",
   "execution_count": null,
   "metadata": {},
   "outputs": [],
   "source": [
    "a1 = dafna.createDFAForGqudruplex(program)"
   ]
  },
  {
   "cell_type": "code",
   "execution_count": 2,
   "metadata": {},
   "outputs": [
    {
     "ename": "NameError",
     "evalue": "name 'dafna' is not defined",
     "output_type": "error",
     "traceback": [
      "\u001b[0;31m---------------------------------------------------------------------------\u001b[0m",
      "\u001b[0;31mNameError\u001b[0m                                 Traceback (most recent call last)",
      "\u001b[0;32m<ipython-input-2-12d17ffd7f64>\u001b[0m in \u001b[0;36m<module>\u001b[0;34m\u001b[0m\n\u001b[0;32m----> 1\u001b[0;31m \u001b[0ma1\u001b[0m \u001b[0;34m=\u001b[0m  \u001b[0mdafna\u001b[0m\u001b[0;34m.\u001b[0m\u001b[0mcreateDFA\u001b[0m\u001b[0;34m(\u001b[0m\u001b[0;34m\"acgt{12}acgYgga\"\u001b[0m\u001b[0;34m)\u001b[0m\u001b[0;34m\u001b[0m\u001b[0;34m\u001b[0m\u001b[0m\n\u001b[0m",
      "\u001b[0;31mNameError\u001b[0m: name 'dafna' is not defined"
     ]
    }
   ],
   "source": [
    "a1 =  dafna.createGeneralDFA(program=\"acgt{12}acgYgga\")"
   ]
  },
  {
   "cell_type": "code",
   "execution_count": 3,
   "metadata": {},
   "outputs": [
    {
     "ename": "NameError",
     "evalue": "name 'dafna' is not defined",
     "output_type": "error",
     "traceback": [
      "\u001b[0;31m---------------------------------------------------------------------------\u001b[0m",
      "\u001b[0;31mNameError\u001b[0m                                 Traceback (most recent call last)",
      "\u001b[0;32m<ipython-input-3-ebaac03eb583>\u001b[0m in \u001b[0;36m<module>\u001b[0;34m\u001b[0m\n\u001b[0;32m----> 1\u001b[0;31m \u001b[0ma2\u001b[0m \u001b[0;34m=\u001b[0m  \u001b[0mdafna\u001b[0m\u001b[0;34m.\u001b[0m\u001b[0mcreateDFA\u001b[0m\u001b[0;34m(\u001b[0m\u001b[0;34m\"HRP\"\u001b[0m\u001b[0;34m)\u001b[0m\u001b[0;34m\u001b[0m\u001b[0;34m\u001b[0m\u001b[0m\n\u001b[0m",
      "\u001b[0;31mNameError\u001b[0m: name 'dafna' is not defined"
     ]
    }
   ],
   "source": [
    "a2 =  dafna.createDFA(\"HRP\")"
   ]
  },
  {
   "cell_type": "code",
   "execution_count": 4,
   "metadata": {},
   "outputs": [
    {
     "ename": "NameError",
     "evalue": "name 'a1' is not defined",
     "output_type": "error",
     "traceback": [
      "\u001b[0;31m---------------------------------------------------------------------------\u001b[0m",
      "\u001b[0;31mNameError\u001b[0m                                 Traceback (most recent call last)",
      "\u001b[0;32m<ipython-input-4-17700f0958bc>\u001b[0m in \u001b[0;36m<module>\u001b[0;34m\u001b[0m\n\u001b[0;32m----> 1\u001b[0;31m \u001b[0ma3\u001b[0m \u001b[0;34m=\u001b[0m \u001b[0ma1\u001b[0m \u001b[0;34m&\u001b[0m \u001b[0ma2\u001b[0m\u001b[0;34m\u001b[0m\u001b[0;34m\u001b[0m\u001b[0m\n\u001b[0m",
      "\u001b[0;31mNameError\u001b[0m: name 'a1' is not defined"
     ]
    }
   ],
   "source": [
    "a3 = a1 & a2"
   ]
  },
  {
   "cell_type": "code",
   "execution_count": 5,
   "metadata": {},
   "outputs": [
    {
     "ename": "NameError",
     "evalue": "name 'find_min_sequences' is not defined",
     "output_type": "error",
     "traceback": [
      "\u001b[0;31m---------------------------------------------------------------------------\u001b[0m",
      "\u001b[0;31mNameError\u001b[0m                                 Traceback (most recent call last)",
      "\u001b[0;32m<ipython-input-5-7fda3bf6e694>\u001b[0m in \u001b[0;36m<module>\u001b[0;34m\u001b[0m\n\u001b[0;32m----> 1\u001b[0;31m \u001b[0mprint\u001b[0m\u001b[0;34m(\u001b[0m\u001b[0mfind_min_sequences\u001b[0m\u001b[0;34m(\u001b[0m\u001b[0ma3\u001b[0m\u001b[0;34m)\u001b[0m\u001b[0;34m)\u001b[0m\u001b[0;34m\u001b[0m\u001b[0;34m\u001b[0m\u001b[0m\n\u001b[0m",
      "\u001b[0;31mNameError\u001b[0m: name 'find_min_sequences' is not defined"
     ]
    }
   ],
   "source": [
    "print(find_min_sequences(a3))"
   ]
  },
  {
   "cell_type": "code",
   "execution_count": null,
   "metadata": {},
   "outputs": [],
   "source": []
  }
 ],
 "metadata": {
  "kernelspec": {
   "display_name": "Python 3",
   "language": "python",
   "name": "python3"
  },
  "language_info": {
   "codemirror_mode": {
    "name": "ipython",
    "version": 3
   },
   "file_extension": ".py",
   "mimetype": "text/x-python",
   "name": "python",
   "nbconvert_exporter": "python",
   "pygments_lexer": "ipython3",
   "version": "3.8.10"
  }
 },
 "nbformat": 4,
 "nbformat_minor": 2
}
